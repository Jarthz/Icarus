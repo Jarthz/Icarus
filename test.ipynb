{
 "cells": [
  {
   "metadata": {
    "ExecuteTime": {
     "end_time": "2025-06-07T14:30:37.779626Z",
     "start_time": "2025-06-07T14:30:37.467985Z"
    }
   },
   "cell_type": "code",
   "source": "import DAO",
   "id": "392e69170391a268",
   "outputs": [],
   "execution_count": 1
  },
  {
   "metadata": {
    "ExecuteTime": {
     "end_time": "2025-06-07T14:30:37.786129Z",
     "start_time": "2025-06-07T14:30:37.782998Z"
    }
   },
   "cell_type": "code",
   "source": "import DatabaseManager",
   "id": "f20dfb1af25f5646",
   "outputs": [],
   "execution_count": 2
  },
  {
   "metadata": {
    "ExecuteTime": {
     "end_time": "2025-06-07T14:30:37.904726Z",
     "start_time": "2025-06-07T14:30:37.902320Z"
    }
   },
   "cell_type": "code",
   "source": "DB_MANAGER = DatabaseManager.DatabaseManager()",
   "id": "f53e751126f58f7b",
   "outputs": [],
   "execution_count": 3
  },
  {
   "metadata": {
    "ExecuteTime": {
     "end_time": "2025-06-07T14:30:37.917736Z",
     "start_time": "2025-06-07T14:30:37.915348Z"
    }
   },
   "cell_type": "code",
   "source": "DAO = DAO.DAO(DB_MANAGER)",
   "id": "bf9065296c1a5591",
   "outputs": [],
   "execution_count": 4
  },
  {
   "metadata": {
    "ExecuteTime": {
     "end_time": "2025-06-07T14:30:37.926747Z",
     "start_time": "2025-06-07T14:30:37.923516Z"
    }
   },
   "cell_type": "code",
   "source": "DAO.create_table()",
   "id": "f8c144b52a332708",
   "outputs": [
    {
     "name": "stdout",
     "output_type": "stream",
     "text": [
      "Connected to Icarus.db.\n",
      "Table Airports created.\n",
      "Table Pilots created.\n",
      "Table Flights created.\n",
      "Table RouteTimes created.\n",
      "Success! All tables created, committed to DB.\n",
      "Connection to database Icarus.db closed.\n"
     ]
    }
   ],
   "execution_count": 5
  },
  {
   "metadata": {
    "ExecuteTime": {
     "end_time": "2025-06-07T14:30:38.298568Z",
     "start_time": "2025-06-07T14:30:37.939432Z"
    }
   },
   "cell_type": "code",
   "source": "DAO.drop_table()",
   "id": "5ce7260240b1b7e2",
   "outputs": [
    {
     "name": "stdout",
     "output_type": "stream",
     "text": [
      "Connected to Icarus.db.\n",
      "Success! Table Airports dropped.\n",
      "Success! Table Pilots dropped.\n",
      "Success! Table Flights dropped.\n",
      "Success! Table RouteTimes dropped.\n",
      "All tables dropped, committed to DB.\n",
      "Connection to database Icarus.db closed.\n"
     ]
    }
   ],
   "execution_count": 6
  },
  {
   "metadata": {},
   "cell_type": "markdown",
   "source": "",
   "id": "10efacfa6158e7c"
  },
  {
   "metadata": {
    "ExecuteTime": {
     "end_time": "2025-06-07T14:30:38.623352Z",
     "start_time": "2025-06-07T14:30:38.304102Z"
    }
   },
   "cell_type": "code",
   "source": "DAO.create_table()\n",
   "id": "70324fc0c4cf451b",
   "outputs": [
    {
     "name": "stdout",
     "output_type": "stream",
     "text": [
      "Connected to Icarus.db.\n",
      "Table Airports created.\n",
      "Table Pilots created.\n",
      "Table Flights created.\n",
      "Table RouteTimes created.\n",
      "Success! All tables created, committed to DB.\n",
      "Connection to database Icarus.db closed.\n"
     ]
    }
   ],
   "execution_count": 7
  },
  {
   "metadata": {
    "ExecuteTime": {
     "end_time": "2025-06-07T14:30:38.984156Z",
     "start_time": "2025-06-07T14:30:38.629609Z"
    }
   },
   "cell_type": "code",
   "source": [
    "files = ['Airports.csv', 'Pilots.csv', 'RouteTimes.csv', 'Flights.csv']\n",
    "DAO.insert_legacy_data(files)"
   ],
   "id": "517e3157b634e9b8",
   "outputs": [
    {
     "name": "stdout",
     "output_type": "stream",
     "text": [
      "Inserting Airports...\n",
      "Connected to Icarus.db.\n",
      "Success! Inserted data from Airports.csv into Airports.\n",
      "Connection to database Icarus.db closed.\n",
      "Inserting Pilots...\n",
      "Connected to Icarus.db.\n",
      "Success! Inserted data from Pilots.csv into Pilots.\n",
      "Connection to database Icarus.db closed.\n",
      "Inserting RouteTimes...\n",
      "Connected to Icarus.db.\n",
      "Success! Inserted data from RouteTimes.csv into RouteTimes.\n",
      "Connection to database Icarus.db closed.\n",
      "Inserting Flights...\n",
      "Connected to Icarus.db.\n",
      "Success! Inserted data from Flights.csv into Flights.\n",
      "Connection to database Icarus.db closed.\n"
     ]
    }
   ],
   "execution_count": 8
  },
  {
   "metadata": {
    "ExecuteTime": {
     "end_time": "2025-06-07T14:30:38.995163Z",
     "start_time": "2025-06-07T14:30:38.989709Z"
    }
   },
   "cell_type": "code",
   "source": "DAO.get_row_count(\"Airports\")",
   "id": "2265ab53efef6038",
   "outputs": [
    {
     "name": "stdout",
     "output_type": "stream",
     "text": [
      "Connected to Icarus.db.\n",
      "Operation Complete.\n",
      "Connection to database Icarus.db closed.\n"
     ]
    },
    {
     "data": {
      "text/plain": [
       "15"
      ]
     },
     "execution_count": 9,
     "metadata": {},
     "output_type": "execute_result"
    }
   ],
   "execution_count": 9
  },
  {
   "metadata": {
    "ExecuteTime": {
     "end_time": "2025-06-07T14:30:39.003667Z",
     "start_time": "2025-06-07T14:30:39.000312Z"
    }
   },
   "cell_type": "code",
   "source": "DAO.get_table_columns(\"Flights\")",
   "id": "4ba1c43ddfd806b4",
   "outputs": [
    {
     "name": "stdout",
     "output_type": "stream",
     "text": [
      "Connected to Icarus.db.\n",
      "Operation Complete.\n",
      "Connection to database Icarus.db closed.\n"
     ]
    },
    {
     "data": {
      "text/plain": [
       "['FlightID',\n",
       " 'DepartureDate',\n",
       " 'Origin',\n",
       " 'Destination',\n",
       " 'PilotID',\n",
       " 'DepartureTime',\n",
       " 'ArrivalTime',\n",
       " 'Status']"
      ]
     },
     "execution_count": 10,
     "metadata": {},
     "output_type": "execute_result"
    }
   ],
   "execution_count": 10
  },
  {
   "metadata": {
    "ExecuteTime": {
     "end_time": "2025-06-07T14:30:39.098295Z",
     "start_time": "2025-06-07T14:30:39.016819Z"
    }
   },
   "cell_type": "code",
   "source": "DAO.add_data('Airports', ('SND', 'Test', 'Testland', 10))",
   "id": "ec777a1f8df50b79",
   "outputs": [
    {
     "name": "stdout",
     "output_type": "stream",
     "text": [
      "Connected to Icarus.db.\n",
      "Successfully inserted data into Airports.\n",
      "Old table size: 15. New table size: 16.\n",
      "Operation Complete.\n",
      "Connection to database Icarus.db closed.\n"
     ]
    }
   ],
   "execution_count": 11
  },
  {
   "metadata": {
    "ExecuteTime": {
     "end_time": "2025-06-07T14:30:39.108261Z",
     "start_time": "2025-06-07T14:30:39.104305Z"
    }
   },
   "cell_type": "code",
   "source": [
    "testcode = [('', 'Destination', '=', 1),('AND', 'Status', '=', 'Scheduled')]\n",
    "DAO.select_or_delete('Flights', '*', testcode)"
   ],
   "id": "d50d789f2cbca7bd",
   "outputs": [
    {
     "name": "stdout",
     "output_type": "stream",
     "text": [
      "Connected to Icarus.db.\n",
      "(1, '20/07/2025', 2, 1, 1, '10:14', '17:14', 'Scheduled')\n",
      "(8, '20/07/2025', 11, 1, 8, '06:25', '10:50', 'Scheduled')\n",
      "Operation Complete.\n",
      "Connection to database Icarus.db closed.\n"
     ]
    }
   ],
   "execution_count": 12
  },
  {
   "metadata": {
    "ExecuteTime": {
     "end_time": "2025-06-07T14:30:39.116272Z",
     "start_time": "2025-06-07T14:30:39.113385Z"
    }
   },
   "cell_type": "code",
   "source": [
    "testcode2 = [('', 'AirportCode', '=', 1)]\n",
    "DAO.select_or_delete('Airports', '*', testcode2)"
   ],
   "id": "2a656bd5c16378b",
   "outputs": [
    {
     "name": "stdout",
     "output_type": "stream",
     "text": [
      "Connected to Icarus.db.\n",
      "Operation Complete.\n",
      "Connection to database Icarus.db closed.\n"
     ]
    }
   ],
   "execution_count": 13
  },
  {
   "metadata": {
    "ExecuteTime": {
     "end_time": "2025-06-07T14:30:39.129326Z",
     "start_time": "2025-06-07T14:30:39.126453Z"
    }
   },
   "cell_type": "code",
   "source": "DAO.select_or_delete('Flights', '*')",
   "id": "a97e0e8e17b04e32",
   "outputs": [
    {
     "name": "stdout",
     "output_type": "stream",
     "text": [
      "Connected to Icarus.db.\n",
      "(1, '20/07/2025', 2, 1, 1, '10:14', '17:14', 'Scheduled')\n",
      "(2, '20/07/2025', 2, 15, 2, '09:20', '10:20', 'Scheduled')\n",
      "(3, '20/07/2025', 1, 6, 3, '08:00', '10:15', 'Scheduled')\n",
      "(4, '20/07/2025', 1, 8, 4, '08:30', '13:30', 'Scheduled')\n",
      "(5, '20/07/2025', 7, 5, 5, '09:00', '14:00', 'Scheduled')\n",
      "(6, '20/07/2025', 7, 11, 6, '09:45', '13:45', 'Scheduled')\n",
      "(7, '20/07/2025', 11, 9, 7, '10:00', '17:00', 'Scheduled')\n",
      "(8, '20/07/2025', 11, 1, 8, '06:25', '10:50', 'Scheduled')\n",
      "(9, '20/07/2025', 15, 5, 9, '07:45', '12:30', 'Scheduled')\n",
      "(10, '20/07/2025', 15, 6, 10, '11:00', '18:45', 'Scheduled')\n",
      "Operation Complete.\n",
      "Connection to database Icarus.db closed.\n"
     ]
    }
   ],
   "execution_count": 14
  },
  {
   "metadata": {
    "ExecuteTime": {
     "end_time": "2025-06-07T14:30:39.216353Z",
     "start_time": "2025-06-07T14:30:39.140954Z"
    }
   },
   "cell_type": "code",
   "source": [
    "#update flight schedule\n",
    "condition = [('', 'Origin', '=', 15), ('OR', 'ORIGIN', '=', 11)]\n",
    "DAO.update('Flights', \"DepartureTime = '12:00', Status = 'Delayed', ArrivalTime = '20:00'\", condition)\n"
   ],
   "id": "aff690824f68ff1",
   "outputs": [
    {
     "name": "stdout",
     "output_type": "stream",
     "text": [
      "Connected to Icarus.db.\n",
      "Successfully updated data from Flights with change DepartureTime = '12:00', Status = 'Delayed', ArrivalTime = '20:00'.\n",
      "Operation Complete.\n",
      "Connection to database Icarus.db closed.\n"
     ]
    }
   ],
   "execution_count": 15
  },
  {
   "metadata": {
    "ExecuteTime": {
     "end_time": "2025-06-07T14:30:39.226368Z",
     "start_time": "2025-06-07T14:30:39.222540Z"
    }
   },
   "cell_type": "code",
   "source": [
    "#check\n",
    "DAO.select_or_delete('Flights', '*')"
   ],
   "id": "2e61b73eb57eb29",
   "outputs": [
    {
     "name": "stdout",
     "output_type": "stream",
     "text": [
      "Connected to Icarus.db.\n",
      "(1, '20/07/2025', 2, 1, 1, '10:14', '17:14', 'Scheduled')\n",
      "(2, '20/07/2025', 2, 15, 2, '09:20', '10:20', 'Scheduled')\n",
      "(3, '20/07/2025', 1, 6, 3, '08:00', '10:15', 'Scheduled')\n",
      "(4, '20/07/2025', 1, 8, 4, '08:30', '13:30', 'Scheduled')\n",
      "(5, '20/07/2025', 7, 5, 5, '09:00', '14:00', 'Scheduled')\n",
      "(6, '20/07/2025', 7, 11, 6, '09:45', '13:45', 'Scheduled')\n",
      "(7, '20/07/2025', 11, 9, 7, '12:00', '20:00', 'Delayed')\n",
      "(8, '20/07/2025', 11, 1, 8, '12:00', '20:00', 'Delayed')\n",
      "(9, '20/07/2025', 15, 5, 9, '12:00', '20:00', 'Delayed')\n",
      "(10, '20/07/2025', 15, 6, 10, '12:00', '20:00', 'Delayed')\n",
      "Operation Complete.\n",
      "Connection to database Icarus.db closed.\n"
     ]
    }
   ],
   "execution_count": 16
  },
  {
   "metadata": {
    "ExecuteTime": {
     "end_time": "2025-06-07T14:30:39.324946Z",
     "start_time": "2025-06-07T14:30:39.231464Z"
    }
   },
   "cell_type": "code",
   "source": [
    "#update pilots to flight\n",
    "DAO.update('Flights', 'PilotID=11', [('', 'FlightID', '=', 10)])\n",
    "DAO.select_or_delete('Flights', '*')"
   ],
   "id": "9255c9deff2ba0cc",
   "outputs": [
    {
     "name": "stdout",
     "output_type": "stream",
     "text": [
      "Connected to Icarus.db.\n",
      "Successfully updated data from Flights with change PilotID=11.\n",
      "Operation Complete.\n",
      "Connection to database Icarus.db closed.\n",
      "Connected to Icarus.db.\n",
      "(1, '20/07/2025', 2, 1, 1, '10:14', '17:14', 'Scheduled')\n",
      "(2, '20/07/2025', 2, 15, 2, '09:20', '10:20', 'Scheduled')\n",
      "(3, '20/07/2025', 1, 6, 3, '08:00', '10:15', 'Scheduled')\n",
      "(4, '20/07/2025', 1, 8, 4, '08:30', '13:30', 'Scheduled')\n",
      "(5, '20/07/2025', 7, 5, 5, '09:00', '14:00', 'Scheduled')\n",
      "(6, '20/07/2025', 7, 11, 6, '09:45', '13:45', 'Scheduled')\n",
      "(7, '20/07/2025', 11, 9, 7, '12:00', '20:00', 'Delayed')\n",
      "(8, '20/07/2025', 11, 1, 8, '12:00', '20:00', 'Delayed')\n",
      "(9, '20/07/2025', 15, 5, 9, '12:00', '20:00', 'Delayed')\n",
      "(10, '20/07/2025', 15, 6, 11, '12:00', '20:00', 'Delayed')\n",
      "Operation Complete.\n",
      "Connection to database Icarus.db closed.\n"
     ]
    }
   ],
   "execution_count": 17
  },
  {
   "metadata": {
    "ExecuteTime": {
     "end_time": "2025-06-07T14:30:39.332951Z",
     "start_time": "2025-06-07T14:30:39.330029Z"
    }
   },
   "cell_type": "code",
   "source": "DAO.get_pilot_schedule(1)",
   "id": "4ad67dff411ab9b5",
   "outputs": [
    {
     "name": "stdout",
     "output_type": "stream",
     "text": [
      "Connected to Icarus.db.\n",
      "('John Smith', 1, '20/07/2025', '17:14', 'LHR', 'Heathrow', 'JFK', 'JFK International', 'Scheduled')\n",
      "Operation Complete.\n",
      "Connection to database Icarus.db closed.\n"
     ]
    }
   ],
   "execution_count": 18
  },
  {
   "metadata": {
    "ExecuteTime": {
     "end_time": "2025-06-07T14:30:39.346967Z",
     "start_time": "2025-06-07T14:30:39.343310Z"
    }
   },
   "cell_type": "code",
   "source": "DAO.get_table_columns('Pilots')",
   "id": "ac3702ca556e2be2",
   "outputs": [
    {
     "name": "stdout",
     "output_type": "stream",
     "text": [
      "Connected to Icarus.db.\n",
      "Operation Complete.\n",
      "Connection to database Icarus.db closed.\n"
     ]
    },
    {
     "data": {
      "text/plain": [
       "['PilotID',\n",
       " 'FirstName',\n",
       " 'LastName',\n",
       " 'LicenseNumber',\n",
       " 'LicenseCountry',\n",
       " 'ExperienceYears',\n",
       " 'Rank',\n",
       " 'Email']"
      ]
     },
     "execution_count": 19,
     "metadata": {},
     "output_type": "execute_result"
    }
   ],
   "execution_count": 19
  },
  {
   "metadata": {
    "ExecuteTime": {
     "end_time": "2025-06-07T14:30:39.362980Z",
     "start_time": "2025-06-07T14:30:39.359162Z"
    }
   },
   "cell_type": "code",
   "source": "DAO.get_table_columns('Flights')",
   "id": "14c757fdac94408",
   "outputs": [
    {
     "name": "stdout",
     "output_type": "stream",
     "text": [
      "Connected to Icarus.db.\n",
      "Operation Complete.\n",
      "Connection to database Icarus.db closed.\n"
     ]
    },
    {
     "data": {
      "text/plain": [
       "['FlightID',\n",
       " 'DepartureDate',\n",
       " 'Origin',\n",
       " 'Destination',\n",
       " 'PilotID',\n",
       " 'DepartureTime',\n",
       " 'ArrivalTime',\n",
       " 'Status']"
      ]
     },
     "execution_count": 20,
     "metadata": {},
     "output_type": "execute_result"
    }
   ],
   "execution_count": 20
  },
  {
   "metadata": {
    "ExecuteTime": {
     "end_time": "2025-06-07T14:30:39.444052Z",
     "start_time": "2025-06-07T14:30:39.441190Z"
    }
   },
   "cell_type": "code",
   "source": "DAO.get_number_of_flights('Destination')",
   "id": "626dff24530596da",
   "outputs": [
    {
     "name": "stdout",
     "output_type": "stream",
     "text": [
      "Connected to Icarus.db.\n",
      "('SYD', 'Sydney', 2)\n",
      "('SIN', 'Changi', 2)\n",
      "('JFK', 'JFK International', 2)\n",
      "('DEL', 'Indira Gandhi Intl', 1)\n",
      "('LAX', 'Los Angeles', 1)\n",
      "('YYZ', 'Toronto Pearson', 1)\n",
      "('DXB', 'Dubai Intl', 1)\n",
      "Operation Complete.\n",
      "Connection to database Icarus.db closed.\n"
     ]
    }
   ],
   "execution_count": 21
  },
  {
   "metadata": {
    "ExecuteTime": {
     "end_time": "2025-06-07T14:30:39.545636Z",
     "start_time": "2025-06-07T14:30:39.542677Z"
    }
   },
   "cell_type": "code",
   "source": "DAO.get_number_of_flights('Destination')",
   "id": "7554384938d8e312",
   "outputs": [
    {
     "name": "stdout",
     "output_type": "stream",
     "text": [
      "Connected to Icarus.db.\n",
      "('SYD', 'Sydney', 2)\n",
      "('SIN', 'Changi', 2)\n",
      "('JFK', 'JFK International', 2)\n",
      "('DEL', 'Indira Gandhi Intl', 1)\n",
      "('LAX', 'Los Angeles', 1)\n",
      "('YYZ', 'Toronto Pearson', 1)\n",
      "('DXB', 'Dubai Intl', 1)\n",
      "Operation Complete.\n",
      "Connection to database Icarus.db closed.\n"
     ]
    }
   ],
   "execution_count": 22
  },
  {
   "metadata": {
    "ExecuteTime": {
     "end_time": "2025-06-07T14:30:39.566655Z",
     "start_time": "2025-06-07T14:30:39.563361Z"
    }
   },
   "cell_type": "code",
   "source": "DAO.get_number_of_flights('PilotID')",
   "id": "9fc3ffd59b665487",
   "outputs": [
    {
     "name": "stdout",
     "output_type": "stream",
     "text": [
      "Connected to Icarus.db.\n",
      "('Laura Adams', 'P-011', 1)\n",
      "('Ethan Brown', 'P-009', 1)\n",
      "('Sophie Martin', 'P-008', 1)\n",
      "('Ahmed Khan', 'P-007', 1)\n",
      "('David Lee', 'P-006', 1)\n",
      "('Maria Silva', 'P-005', 1)\n",
      "('Carlos Gonzalez', 'P-004', 1)\n",
      "('Hiroshi Tanaka', 'P-003', 1)\n",
      "('Alice Johnson', 'P-002', 1)\n",
      "('John Smith', 'P-001', 1)\n",
      "Operation Complete.\n",
      "Connection to database Icarus.db closed.\n"
     ]
    }
   ],
   "execution_count": 23
  },
  {
   "metadata": {
    "ExecuteTime": {
     "end_time": "2025-06-07T14:30:39.583675Z",
     "start_time": "2025-06-07T14:30:39.581497Z"
    }
   },
   "cell_type": "code",
   "source": "",
   "id": "c7395020ddfa77b5",
   "outputs": [],
   "execution_count": null
  }
 ],
 "metadata": {
  "kernelspec": {
   "display_name": "Python 3",
   "language": "python",
   "name": "python3"
  },
  "language_info": {
   "codemirror_mode": {
    "name": "ipython",
    "version": 2
   },
   "file_extension": ".py",
   "mimetype": "text/x-python",
   "name": "python",
   "nbconvert_exporter": "python",
   "pygments_lexer": "ipython2",
   "version": "2.7.6"
  }
 },
 "nbformat": 4,
 "nbformat_minor": 5
}
