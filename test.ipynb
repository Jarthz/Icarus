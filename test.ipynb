{
 "cells": [
  {
   "metadata": {
    "ExecuteTime": {
     "end_time": "2025-06-06T19:43:22.620596Z",
     "start_time": "2025-06-06T19:43:22.319831Z"
    }
   },
   "cell_type": "code",
   "source": "import DAO",
   "id": "392e69170391a268",
   "outputs": [],
   "execution_count": 1
  },
  {
   "metadata": {
    "ExecuteTime": {
     "end_time": "2025-06-06T19:43:22.739715Z",
     "start_time": "2025-06-06T19:43:22.736735Z"
    }
   },
   "cell_type": "code",
   "source": "import DatabaseManager",
   "id": "f20dfb1af25f5646",
   "outputs": [],
   "execution_count": 2
  },
  {
   "metadata": {
    "ExecuteTime": {
     "end_time": "2025-06-06T19:43:22.745178Z",
     "start_time": "2025-06-06T19:43:22.742805Z"
    }
   },
   "cell_type": "code",
   "source": "DB_MANAGER = DatabaseManager.DatabaseManager()",
   "id": "f53e751126f58f7b",
   "outputs": [],
   "execution_count": 3
  },
  {
   "metadata": {
    "ExecuteTime": {
     "end_time": "2025-06-06T19:43:22.758191Z",
     "start_time": "2025-06-06T19:43:22.755791Z"
    }
   },
   "cell_type": "code",
   "source": "DAO = DAO.DAO(DB_MANAGER)",
   "id": "bf9065296c1a5591",
   "outputs": [],
   "execution_count": 4
  },
  {
   "metadata": {
    "ExecuteTime": {
     "end_time": "2025-06-06T19:43:24.104354Z",
     "start_time": "2025-06-06T19:43:23.704103Z"
    }
   },
   "cell_type": "code",
   "source": "DAO.create_table()",
   "id": "f8c144b52a332708",
   "outputs": [
    {
     "name": "stdout",
     "output_type": "stream",
     "text": [
      "Connected to Icarus.db.\n",
      "Table Airports created.\n",
      "Table Pilots created.\n",
      "Table Flights created.\n",
      "Table RouteTimes created.\n",
      "Success! All tables created, committed to DB.\n",
      "Connection to database Icarus.db closed.\n"
     ]
    }
   ],
   "execution_count": 5
  },
  {
   "metadata": {
    "ExecuteTime": {
     "end_time": "2025-06-06T19:43:25.278358Z",
     "start_time": "2025-06-06T19:43:24.945046Z"
    }
   },
   "cell_type": "code",
   "source": "DAO.drop_table()",
   "id": "5ce7260240b1b7e2",
   "outputs": [
    {
     "name": "stdout",
     "output_type": "stream",
     "text": [
      "Connected to Icarus.db.\n",
      "Success! Table Airports dropped.\n",
      "Success! Table Pilots dropped.\n",
      "Success! Table Flights dropped.\n",
      "Success! Table RouteTimes dropped.\n",
      "All tables dropped, committed to DB.\n",
      "Connection to database Icarus.db closed.\n"
     ]
    }
   ],
   "execution_count": 6
  },
  {
   "metadata": {},
   "cell_type": "markdown",
   "source": "",
   "id": "10efacfa6158e7c"
  },
  {
   "metadata": {
    "ExecuteTime": {
     "end_time": "2025-06-06T19:43:29.793236Z",
     "start_time": "2025-06-06T19:43:29.316793Z"
    }
   },
   "cell_type": "code",
   "source": "DAO.create_table()\n",
   "id": "70324fc0c4cf451b",
   "outputs": [
    {
     "name": "stdout",
     "output_type": "stream",
     "text": [
      "Connected to Icarus.db.\n",
      "Table Airports created.\n",
      "Table Pilots created.\n",
      "Table Flights created.\n",
      "Table RouteTimes created.\n",
      "Success! All tables created, committed to DB.\n",
      "Connection to database Icarus.db closed.\n"
     ]
    }
   ],
   "execution_count": 7
  },
  {
   "metadata": {
    "ExecuteTime": {
     "end_time": "2025-06-06T19:43:51.663017Z",
     "start_time": "2025-06-06T19:43:51.379855Z"
    }
   },
   "cell_type": "code",
   "source": [
    "files = ['Airports.csv', 'Pilots.csv']\n",
    "DAO.insert_legacy_data(files)"
   ],
   "id": "517e3157b634e9b8",
   "outputs": [
    {
     "name": "stdout",
     "output_type": "stream",
     "text": [
      "Inserting Airports...\n",
      "Connected to Icarus.db.\n",
      "Success! Inserted data from Airports.csv into Airports.\n",
      "Connection to database Icarus.db closed.\n",
      "Inserting Pilots...\n",
      "Connected to Icarus.db.\n",
      "Error inserting data from Pilots.csv check that columns = schema: UNIQUE constraint failed: Pilots.Pilot_ID\n",
      "Transaction rolled back.\n",
      "Connection to database Icarus.db closed.\n"
     ]
    }
   ],
   "execution_count": 14
  },
  {
   "metadata": {
    "ExecuteTime": {
     "end_time": "2025-06-06T19:43:33.901763Z",
     "start_time": "2025-06-06T19:43:33.896004Z"
    }
   },
   "cell_type": "code",
   "source": "DAO.get_row_count(\"Airports\")",
   "id": "2265ab53efef6038",
   "outputs": [
    {
     "name": "stdout",
     "output_type": "stream",
     "text": [
      "Connected to Icarus.db.\n",
      "Operation Complete.\n",
      "Connection to database Icarus.db closed.\n"
     ]
    },
    {
     "data": {
      "text/plain": [
       "15"
      ]
     },
     "execution_count": 9,
     "metadata": {},
     "output_type": "execute_result"
    }
   ],
   "execution_count": 9
  },
  {
   "metadata": {
    "ExecuteTime": {
     "end_time": "2025-06-06T19:43:34.925142Z",
     "start_time": "2025-06-06T19:43:34.920847Z"
    }
   },
   "cell_type": "code",
   "source": "DAO.get_table_columns(\"Flights\")",
   "id": "4ba1c43ddfd806b4",
   "outputs": [
    {
     "name": "stdout",
     "output_type": "stream",
     "text": [
      "Connected to Icarus.db.\n",
      "Operation Complete.\n",
      "Connection to database Icarus.db closed.\n"
     ]
    },
    {
     "data": {
      "text/plain": [
       "['FlightID',\n",
       " 'DepartureDate',\n",
       " 'Origin',\n",
       " 'Destination',\n",
       " 'PilotID',\n",
       " 'DepartureTime',\n",
       " 'ArrivalTime',\n",
       " 'Status']"
      ]
     },
     "execution_count": 10,
     "metadata": {},
     "output_type": "execute_result"
    }
   ],
   "execution_count": 10
  },
  {
   "metadata": {
    "ExecuteTime": {
     "end_time": "2025-06-06T19:43:36.632605Z",
     "start_time": "2025-06-06T19:43:36.533657Z"
    }
   },
   "cell_type": "code",
   "source": "DAO.add_data('Airports', ('SND', 'Test', 'Testland', 10))",
   "id": "ec777a1f8df50b79",
   "outputs": [
    {
     "name": "stdout",
     "output_type": "stream",
     "text": [
      "Connected to Icarus.db.\n",
      "Successfully inserted data into Airports.\n",
      "Old table size: 15. New table size: 16.\n",
      "Operation Complete.\n",
      "Connection to database Icarus.db closed.\n"
     ]
    }
   ],
   "execution_count": 11
  },
  {
   "metadata": {
    "ExecuteTime": {
     "end_time": "2025-06-06T19:43:39.139760Z",
     "start_time": "2025-06-06T19:43:38.860346Z"
    }
   },
   "cell_type": "code",
   "source": [
    "testcode = [('', 'Runways', '>', 1)]\n",
    "DAO.select_or_delete('Airports', '', testcode, 'DELETE')"
   ],
   "id": "d50d789f2cbca7bd",
   "outputs": [
    {
     "name": "stdout",
     "output_type": "stream",
     "text": [
      "Connected to Icarus.db.\n",
      "Operation Complete.\n",
      "Connection to database Icarus.db closed.\n"
     ]
    }
   ],
   "execution_count": 12
  },
  {
   "metadata": {
    "ExecuteTime": {
     "end_time": "2025-06-06T19:43:41.470261Z",
     "start_time": "2025-06-06T19:43:41.466660Z"
    }
   },
   "cell_type": "code",
   "source": [
    "testcode2 = [('', '*')]\n",
    "DAO.select_or_delete('Airports', '*')"
   ],
   "id": "2a656bd5c16378b",
   "outputs": [
    {
     "name": "stdout",
     "output_type": "stream",
     "text": [
      "Connected to Icarus.db.\n",
      "Operation Complete.\n",
      "Connection to database Icarus.db closed.\n"
     ]
    }
   ],
   "execution_count": 13
  },
  {
   "metadata": {
    "ExecuteTime": {
     "end_time": "2025-06-06T19:22:40.696533Z",
     "start_time": "2025-06-06T19:22:40.694766Z"
    }
   },
   "cell_type": "code",
   "source": "",
   "id": "d5470049dfb37864",
   "outputs": [],
   "execution_count": null
  },
  {
   "metadata": {
    "ExecuteTime": {
     "end_time": "2025-06-06T19:21:22.655514Z",
     "start_time": "2025-06-06T19:21:22.653426Z"
    }
   },
   "cell_type": "code",
   "source": "",
   "id": "a97e0e8e17b04e32",
   "outputs": [],
   "execution_count": null
  },
  {
   "metadata": {},
   "cell_type": "code",
   "outputs": [],
   "execution_count": null,
   "source": "",
   "id": "aff690824f68ff1"
  }
 ],
 "metadata": {
  "kernelspec": {
   "display_name": "Python 3",
   "language": "python",
   "name": "python3"
  },
  "language_info": {
   "codemirror_mode": {
    "name": "ipython",
    "version": 2
   },
   "file_extension": ".py",
   "mimetype": "text/x-python",
   "name": "python",
   "nbconvert_exporter": "python",
   "pygments_lexer": "ipython2",
   "version": "2.7.6"
  }
 },
 "nbformat": 4,
 "nbformat_minor": 5
}
