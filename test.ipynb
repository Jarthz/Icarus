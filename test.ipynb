{
 "cells": [
  {
   "metadata": {
    "ExecuteTime": {
     "end_time": "2025-06-07T21:09:47.854678Z",
     "start_time": "2025-06-07T21:09:47.540606Z"
    }
   },
   "cell_type": "code",
   "source": "import DAO",
   "id": "392e69170391a268",
   "outputs": [],
   "execution_count": 1
  },
  {
   "metadata": {
    "ExecuteTime": {
     "end_time": "2025-06-07T21:09:47.860671Z",
     "start_time": "2025-06-07T21:09:47.857823Z"
    }
   },
   "cell_type": "code",
   "source": "import DatabaseManager",
   "id": "f20dfb1af25f5646",
   "outputs": [],
   "execution_count": 2
  },
  {
   "metadata": {
    "ExecuteTime": {
     "end_time": "2025-06-07T21:09:47.980774Z",
     "start_time": "2025-06-07T21:09:47.978362Z"
    }
   },
   "cell_type": "code",
   "source": "DB_MANAGER = DatabaseManager.DatabaseManager()",
   "id": "f53e751126f58f7b",
   "outputs": [],
   "execution_count": 3
  },
  {
   "metadata": {
    "ExecuteTime": {
     "end_time": "2025-06-07T21:09:47.993282Z",
     "start_time": "2025-06-07T21:09:47.990985Z"
    }
   },
   "cell_type": "code",
   "source": "DAO = DAO.DAO(DB_MANAGER)",
   "id": "bf9065296c1a5591",
   "outputs": [],
   "execution_count": 4
  },
  {
   "metadata": {
    "ExecuteTime": {
     "end_time": "2025-06-07T21:09:48.001792Z",
     "start_time": "2025-06-07T21:09:47.998493Z"
    }
   },
   "cell_type": "code",
   "source": "DAO.create_table()",
   "id": "f8c144b52a332708",
   "outputs": [
    {
     "name": "stdout",
     "output_type": "stream",
     "text": [
      "Connected to Icarus.db.\n",
      "Table Airports created.\n",
      "Table Pilots created.\n",
      "Table Flights created.\n",
      "Table RouteTimes created.\n",
      "Table Users created.\n",
      "Table AuditLog created.\n",
      "Success! All tables created, committed to DB.\n",
      "Connection to database Icarus.db closed.\n"
     ]
    }
   ],
   "execution_count": 5
  },
  {
   "metadata": {
    "ExecuteTime": {
     "end_time": "2025-06-07T21:09:48.502721Z",
     "start_time": "2025-06-07T21:09:48.009513Z"
    }
   },
   "cell_type": "code",
   "source": "DAO.drop_table()",
   "id": "5ce7260240b1b7e2",
   "outputs": [
    {
     "name": "stdout",
     "output_type": "stream",
     "text": [
      "Connected to Icarus.db.\n",
      "Success! Table Airports dropped.\n",
      "Success! Table Pilots dropped.\n",
      "Success! Table Flights dropped.\n",
      "Success! Table RouteTimes dropped.\n",
      "Success! Table Users dropped.\n",
      "Success! Table AuditLog dropped.\n",
      "All tables dropped, committed to DB.\n",
      "Connection to database Icarus.db closed.\n"
     ]
    }
   ],
   "execution_count": 6
  },
  {
   "metadata": {},
   "cell_type": "markdown",
   "source": "",
   "id": "10efacfa6158e7c"
  },
  {
   "metadata": {
    "ExecuteTime": {
     "end_time": "2025-06-07T21:09:49.011162Z",
     "start_time": "2025-06-07T21:09:48.508395Z"
    }
   },
   "cell_type": "code",
   "source": "DAO.create_table()\n",
   "id": "70324fc0c4cf451b",
   "outputs": [
    {
     "name": "stdout",
     "output_type": "stream",
     "text": [
      "Connected to Icarus.db.\n",
      "Table Airports created.\n",
      "Table Pilots created.\n",
      "Table Flights created.\n",
      "Table RouteTimes created.\n",
      "Table Users created.\n",
      "Table AuditLog created.\n",
      "Success! All tables created, committed to DB.\n",
      "Connection to database Icarus.db closed.\n"
     ]
    }
   ],
   "execution_count": 7
  },
  {
   "metadata": {
    "ExecuteTime": {
     "end_time": "2025-06-07T21:09:49.269377Z",
     "start_time": "2025-06-07T21:09:49.017250Z"
    }
   },
   "cell_type": "code",
   "source": [
    "files = ['Airports.csv', 'Pilots.csv', 'RouteTimes.csv', 'Flights.csv']\n",
    "DAO.insert_legacy_data(files)"
   ],
   "id": "517e3157b634e9b8",
   "outputs": [
    {
     "name": "stdout",
     "output_type": "stream",
     "text": [
      "Inserting Airports...\n",
      "Connected to Icarus.db.\n",
      "Success! Inserted data from Airports.csv into Airports.\n",
      "Connection to database Icarus.db closed.\n",
      "Inserting Pilots...\n",
      "Connected to Icarus.db.\n",
      "Success! Inserted data from Pilots.csv into Pilots.\n",
      "Connection to database Icarus.db closed.\n",
      "Inserting RouteTimes...\n",
      "Connected to Icarus.db.\n",
      "Error inserting data from RouteTimes.csv check that columns = schema: cannot store BLOB value in INTEGER column RouteTimes.Origin\n",
      "Transaction rolled back.\n",
      "Connection to database Icarus.db closed.\n",
      "Inserting Flights...\n",
      "Connected to Icarus.db.\n",
      "Success! Inserted data from Flights.csv into Flights.\n",
      "Connection to database Icarus.db closed.\n"
     ]
    }
   ],
   "execution_count": 8
  },
  {
   "metadata": {
    "ExecuteTime": {
     "end_time": "2025-06-07T21:09:49.280887Z",
     "start_time": "2025-06-07T21:09:49.275005Z"
    }
   },
   "cell_type": "code",
   "source": "DAO.get_row_count(\"Airports\")",
   "id": "2265ab53efef6038",
   "outputs": [
    {
     "name": "stdout",
     "output_type": "stream",
     "text": [
      "Connected to Icarus.db.\n",
      "Operation Complete.\n",
      "Connection to database Icarus.db closed.\n"
     ]
    },
    {
     "data": {
      "text/plain": [
       "15"
      ]
     },
     "execution_count": 9,
     "metadata": {},
     "output_type": "execute_result"
    }
   ],
   "execution_count": 9
  },
  {
   "metadata": {
    "ExecuteTime": {
     "end_time": "2025-06-07T21:09:49.349943Z",
     "start_time": "2025-06-07T21:09:49.345616Z"
    }
   },
   "cell_type": "code",
   "source": "DAO.get_table_columns(\"Flights\")",
   "id": "4ba1c43ddfd806b4",
   "outputs": [
    {
     "name": "stdout",
     "output_type": "stream",
     "text": [
      "Connected to Icarus.db.\n",
      "Operation Complete.\n",
      "Connection to database Icarus.db closed.\n"
     ]
    },
    {
     "data": {
      "text/plain": [
       "[('FlightID', 'INTEGER', 1),\n",
       " ('DepartureDate', 'TEXT', 0),\n",
       " ('Origin', 'INTEGER', 0),\n",
       " ('Destination', 'INTEGER', 0),\n",
       " ('PilotID', 'INTEGER', 0),\n",
       " ('DepartureTime', 'TEXT', 0),\n",
       " ('ArrivalTime', 'TEXT', 0),\n",
       " ('Status', 'TEXT', 0)]"
      ]
     },
     "execution_count": 10,
     "metadata": {},
     "output_type": "execute_result"
    }
   ],
   "execution_count": 10
  },
  {
   "metadata": {
    "ExecuteTime": {
     "end_time": "2025-06-07T21:09:49.683237Z",
     "start_time": "2025-06-07T21:09:49.428093Z"
    }
   },
   "cell_type": "code",
   "source": "DAO.add_data('Airports', ('SND', 'Test', 'Testland', 10))",
   "id": "ec777a1f8df50b79",
   "outputs": [
    {
     "ename": "TypeError",
     "evalue": "DAO.add_data() missing 1 required positional argument: 'table_columns'",
     "output_type": "error",
     "traceback": [
      "\u001B[31m---------------------------------------------------------------------------\u001B[39m",
      "\u001B[31mTypeError\u001B[39m                                 Traceback (most recent call last)",
      "\u001B[36mCell\u001B[39m\u001B[36m \u001B[39m\u001B[32mIn[11]\u001B[39m\u001B[32m, line 1\u001B[39m\n\u001B[32m----> \u001B[39m\u001B[32m1\u001B[39m \u001B[43mDAO\u001B[49m\u001B[43m.\u001B[49m\u001B[43madd_data\u001B[49m\u001B[43m(\u001B[49m\u001B[33;43m'\u001B[39;49m\u001B[33;43mAirports\u001B[39;49m\u001B[33;43m'\u001B[39;49m\u001B[43m,\u001B[49m\u001B[43m \u001B[49m\u001B[43m(\u001B[49m\u001B[33;43m'\u001B[39;49m\u001B[33;43mSND\u001B[39;49m\u001B[33;43m'\u001B[39;49m\u001B[43m,\u001B[49m\u001B[43m \u001B[49m\u001B[33;43m'\u001B[39;49m\u001B[33;43mTest\u001B[39;49m\u001B[33;43m'\u001B[39;49m\u001B[43m,\u001B[49m\u001B[43m \u001B[49m\u001B[33;43m'\u001B[39;49m\u001B[33;43mTestland\u001B[39;49m\u001B[33;43m'\u001B[39;49m\u001B[43m,\u001B[49m\u001B[43m \u001B[49m\u001B[32;43m10\u001B[39;49m\u001B[43m)\u001B[49m\u001B[43m)\u001B[49m\n",
      "\u001B[31mTypeError\u001B[39m: DAO.add_data() missing 1 required positional argument: 'table_columns'"
     ]
    }
   ],
   "execution_count": 11
  },
  {
   "metadata": {
    "ExecuteTime": {
     "end_time": "2025-06-07T21:09:49.689715500Z",
     "start_time": "2025-06-07T15:41:34.829013Z"
    }
   },
   "cell_type": "code",
   "source": [
    "testcode = [('', 'Destination', '=', 1),('AND', 'Status', '=', 'Scheduled')]\n",
    "DAO.select_or_delete('Flights', '*', testcode)"
   ],
   "id": "d50d789f2cbca7bd",
   "outputs": [
    {
     "name": "stdout",
     "output_type": "stream",
     "text": [
      "Connected to Icarus.db.\n",
      "(1, '20/07/2025', 2, 1, 1, '10:14', '17:14', 'Scheduled')\n",
      "(8, '20/07/2025', 11, 1, 8, '06:25', '10:50', 'Scheduled')\n",
      "Operation Complete.\n",
      "Connection to database Icarus.db closed.\n"
     ]
    }
   ],
   "execution_count": 12
  },
  {
   "metadata": {
    "ExecuteTime": {
     "end_time": "2025-06-07T21:09:49.691216500Z",
     "start_time": "2025-06-07T15:41:34.838085Z"
    }
   },
   "cell_type": "code",
   "source": [
    "testcode2 = [('', 'AirportCode', '=', 1)]\n",
    "DAO.select_or_delete('Airports', '*', testcode2)"
   ],
   "id": "2a656bd5c16378b",
   "outputs": [
    {
     "name": "stdout",
     "output_type": "stream",
     "text": [
      "Connected to Icarus.db.\n",
      "Operation Complete.\n",
      "Connection to database Icarus.db closed.\n"
     ]
    }
   ],
   "execution_count": 13
  },
  {
   "metadata": {
    "ExecuteTime": {
     "end_time": "2025-06-07T21:09:49.691717300Z",
     "start_time": "2025-06-07T15:41:34.849815Z"
    }
   },
   "cell_type": "code",
   "source": "DAO.select_or_delete('Flights', '*')",
   "id": "a97e0e8e17b04e32",
   "outputs": [
    {
     "name": "stdout",
     "output_type": "stream",
     "text": [
      "Connected to Icarus.db.\n",
      "(1, '20/07/2025', 2, 1, 1, '10:14', '17:14', 'Scheduled')\n",
      "(2, '20/07/2025', 2, 15, 2, '09:20', '10:20', 'Scheduled')\n",
      "(3, '20/07/2025', 1, 6, 3, '08:00', '10:15', 'Scheduled')\n",
      "(4, '20/07/2025', 1, 8, 4, '08:30', '13:30', 'Scheduled')\n",
      "(5, '20/07/2025', 7, 5, 5, '09:00', '14:00', 'Scheduled')\n",
      "(6, '20/07/2025', 7, 11, 6, '09:45', '13:45', 'Scheduled')\n",
      "(7, '20/07/2025', 11, 9, 7, '10:00', '17:00', 'Scheduled')\n",
      "(8, '20/07/2025', 11, 1, 8, '06:25', '10:50', 'Scheduled')\n",
      "(9, '20/07/2025', 15, 5, 9, '07:45', '12:30', 'Scheduled')\n",
      "(10, '20/07/2025', 15, 6, 10, '11:00', '18:45', 'Scheduled')\n",
      "Operation Complete.\n",
      "Connection to database Icarus.db closed.\n"
     ]
    }
   ],
   "execution_count": 14
  },
  {
   "metadata": {
    "ExecuteTime": {
     "end_time": "2025-06-07T21:11:27.126444Z",
     "start_time": "2025-06-07T21:11:27.016549Z"
    }
   },
   "cell_type": "code",
   "source": [
    "#update flight schedule\n",
    "condition = [('', 'Origin', '=', 15), ('OR', 'ORIGIN', '=', 11)]\n",
    "DAO.update('Flights', \"DepartureTime = '12:00', Status = 'Delayed', ArrivalTime = '20:00'\", condition)\n"
   ],
   "id": "aff690824f68ff1",
   "outputs": [
    {
     "name": "stdout",
     "output_type": "stream",
     "text": [
      "Connected to Icarus.db.\n",
      "Successfully updated data from Flights with change DepartureTime = '12:00', Status = 'Delayed', ArrivalTime = '20:00'.\n",
      "Operation Complete.\n",
      "Connection to database Icarus.db closed.\n"
     ]
    }
   ],
   "execution_count": 12
  },
  {
   "metadata": {
    "ExecuteTime": {
     "end_time": "2025-06-07T21:11:31.339072Z",
     "start_time": "2025-06-07T21:11:31.333876Z"
    }
   },
   "cell_type": "code",
   "source": [
    "#check\n",
    "DAO.select_or_delete('Flights', '*')"
   ],
   "id": "2e61b73eb57eb29",
   "outputs": [
    {
     "name": "stdout",
     "output_type": "stream",
     "text": [
      "Connected to Icarus.db.\n",
      "Operation Complete.\n",
      "Connection to database Icarus.db closed.\n"
     ]
    },
    {
     "data": {
      "text/plain": [
       "([(1, '20/07/2025', 2, 1, 1, '10:14', '17:14', 'Scheduled'),\n",
       "  (2, '20/07/2025', 2, 15, 2, '09:20', '10:20', 'Scheduled'),\n",
       "  (3, '20/07/2025', 1, 6, 3, '08:00', '10:15', 'Scheduled'),\n",
       "  (4, '20/07/2025', 1, 8, 4, '08:30', '13:30', 'Scheduled'),\n",
       "  (5, '20/07/2025', 7, 5, 5, '09:00', '14:00', 'Scheduled'),\n",
       "  (6, '20/07/2025', 7, 11, 6, '09:45', '13:45', 'Scheduled'),\n",
       "  (7, '20/07/2025', 11, 9, 7, '12:00', '20:00', 'Delayed'),\n",
       "  (8, '20/07/2025', 11, 1, 8, '12:00', '20:00', 'Delayed'),\n",
       "  (9, '20/07/2025', 15, 5, 9, '12:00', '20:00', 'Delayed'),\n",
       "  (10, '20/07/2025', 15, 6, 10, '12:00', '20:00', 'Delayed')],\n",
       " ['FlightID',\n",
       "  'DepartureDate',\n",
       "  'Origin',\n",
       "  'Destination',\n",
       "  'PilotID',\n",
       "  'DepartureTime',\n",
       "  'ArrivalTime',\n",
       "  'Status'])"
      ]
     },
     "execution_count": 13,
     "metadata": {},
     "output_type": "execute_result"
    }
   ],
   "execution_count": 13
  },
  {
   "metadata": {
    "ExecuteTime": {
     "end_time": "2025-06-07T21:09:49.699724700Z",
     "start_time": "2025-06-07T15:41:34.963713Z"
    }
   },
   "cell_type": "code",
   "source": [
    "#update pilots to flight\n",
    "DAO.update('Flights', 'PilotID=11', [('', 'FlightID', '=', 10)])\n",
    "DAO.select_or_delete('Flights', '*')"
   ],
   "id": "9255c9deff2ba0cc",
   "outputs": [
    {
     "name": "stdout",
     "output_type": "stream",
     "text": [
      "Connected to Icarus.db.\n",
      "Successfully updated data from Flights with change PilotID=11.\n",
      "Operation Complete.\n",
      "Connection to database Icarus.db closed.\n",
      "Connected to Icarus.db.\n",
      "(1, '20/07/2025', 2, 1, 1, '10:14', '17:14', 'Scheduled')\n",
      "(2, '20/07/2025', 2, 15, 2, '09:20', '10:20', 'Scheduled')\n",
      "(3, '20/07/2025', 1, 6, 3, '08:00', '10:15', 'Scheduled')\n",
      "(4, '20/07/2025', 1, 8, 4, '08:30', '13:30', 'Scheduled')\n",
      "(5, '20/07/2025', 7, 5, 5, '09:00', '14:00', 'Scheduled')\n",
      "(6, '20/07/2025', 7, 11, 6, '09:45', '13:45', 'Scheduled')\n",
      "(7, '20/07/2025', 11, 9, 7, '12:00', '20:00', 'Delayed')\n",
      "(8, '20/07/2025', 11, 1, 8, '12:00', '20:00', 'Delayed')\n",
      "(9, '20/07/2025', 15, 5, 9, '12:00', '20:00', 'Delayed')\n",
      "(10, '20/07/2025', 15, 6, 11, '12:00', '20:00', 'Delayed')\n",
      "Operation Complete.\n",
      "Connection to database Icarus.db closed.\n"
     ]
    }
   ],
   "execution_count": 17
  },
  {
   "metadata": {
    "ExecuteTime": {
     "end_time": "2025-06-07T21:09:49.700725100Z",
     "start_time": "2025-06-07T15:41:35.055232Z"
    }
   },
   "cell_type": "code",
   "source": "DAO.get_pilot_schedule(1)",
   "id": "4ad67dff411ab9b5",
   "outputs": [
    {
     "name": "stdout",
     "output_type": "stream",
     "text": [
      "Connected to Icarus.db.\n",
      "('John Smith', 1, '20/07/2025', '17:14', 'LHR', 'Heathrow', 'JFK', 'JFK International', 'Scheduled')\n",
      "Operation Complete.\n",
      "Connection to database Icarus.db closed.\n"
     ]
    }
   ],
   "execution_count": 18
  },
  {
   "metadata": {
    "ExecuteTime": {
     "end_time": "2025-06-07T21:09:49.701725800Z",
     "start_time": "2025-06-07T15:41:35.068346Z"
    }
   },
   "cell_type": "code",
   "source": "DAO.get_table_columns('Pilots')",
   "id": "ac3702ca556e2be2",
   "outputs": [
    {
     "name": "stdout",
     "output_type": "stream",
     "text": [
      "Connected to Icarus.db.\n",
      "Operation Complete.\n",
      "Connection to database Icarus.db closed.\n"
     ]
    },
    {
     "data": {
      "text/plain": [
       "['PilotID',\n",
       " 'FirstName',\n",
       " 'LastName',\n",
       " 'LicenseNumber',\n",
       " 'LicenseCountry',\n",
       " 'ExperienceYears',\n",
       " 'Rank',\n",
       " 'Email']"
      ]
     },
     "execution_count": 19,
     "metadata": {},
     "output_type": "execute_result"
    }
   ],
   "execution_count": 19
  },
  {
   "metadata": {
    "ExecuteTime": {
     "end_time": "2025-06-07T21:09:49.702226200Z",
     "start_time": "2025-06-07T15:41:35.077907Z"
    }
   },
   "cell_type": "code",
   "source": "DAO.get_table_columns('Flights')",
   "id": "14c757fdac94408",
   "outputs": [
    {
     "name": "stdout",
     "output_type": "stream",
     "text": [
      "Connected to Icarus.db.\n",
      "Operation Complete.\n",
      "Connection to database Icarus.db closed.\n"
     ]
    },
    {
     "data": {
      "text/plain": [
       "['FlightID',\n",
       " 'DepartureDate',\n",
       " 'Origin',\n",
       " 'Destination',\n",
       " 'PilotID',\n",
       " 'DepartureTime',\n",
       " 'ArrivalTime',\n",
       " 'Status']"
      ]
     },
     "execution_count": 20,
     "metadata": {},
     "output_type": "execute_result"
    }
   ],
   "execution_count": 20
  },
  {
   "metadata": {
    "ExecuteTime": {
     "end_time": "2025-06-07T21:09:49.702226200Z",
     "start_time": "2025-06-07T15:41:35.093527Z"
    }
   },
   "cell_type": "code",
   "source": "DAO.get_number_of_flights('Destination')",
   "id": "626dff24530596da",
   "outputs": [
    {
     "name": "stdout",
     "output_type": "stream",
     "text": [
      "Connected to Icarus.db.\n",
      "('SYD', 'Sydney', 2)\n",
      "('SIN', 'Changi', 2)\n",
      "('JFK', 'JFK International', 2)\n",
      "('DEL', 'Indira Gandhi Intl', 1)\n",
      "('LAX', 'Los Angeles', 1)\n",
      "('YYZ', 'Toronto Pearson', 1)\n",
      "('DXB', 'Dubai Intl', 1)\n",
      "Operation Complete.\n",
      "Connection to database Icarus.db closed.\n"
     ]
    }
   ],
   "execution_count": 21
  },
  {
   "metadata": {
    "ExecuteTime": {
     "end_time": "2025-06-07T21:09:49.702726900Z",
     "start_time": "2025-06-07T15:41:35.106206Z"
    }
   },
   "cell_type": "code",
   "source": "DAO.get_number_of_flights('Destination')",
   "id": "7554384938d8e312",
   "outputs": [
    {
     "name": "stdout",
     "output_type": "stream",
     "text": [
      "Connected to Icarus.db.\n",
      "('SYD', 'Sydney', 2)\n",
      "('SIN', 'Changi', 2)\n",
      "('JFK', 'JFK International', 2)\n",
      "('DEL', 'Indira Gandhi Intl', 1)\n",
      "('LAX', 'Los Angeles', 1)\n",
      "('YYZ', 'Toronto Pearson', 1)\n",
      "('DXB', 'Dubai Intl', 1)\n",
      "Operation Complete.\n",
      "Connection to database Icarus.db closed.\n"
     ]
    }
   ],
   "execution_count": 22
  },
  {
   "metadata": {
    "ExecuteTime": {
     "end_time": "2025-06-07T21:09:49.702726900Z",
     "start_time": "2025-06-07T15:41:35.115994Z"
    }
   },
   "cell_type": "code",
   "source": "DAO.get_number_of_flights('PilotID')",
   "id": "9fc3ffd59b665487",
   "outputs": [
    {
     "name": "stdout",
     "output_type": "stream",
     "text": [
      "Connected to Icarus.db.\n",
      "('Laura Adams', 'P-011', 1)\n",
      "('Ethan Brown', 'P-009', 1)\n",
      "('Sophie Martin', 'P-008', 1)\n",
      "('Ahmed Khan', 'P-007', 1)\n",
      "('David Lee', 'P-006', 1)\n",
      "('Maria Silva', 'P-005', 1)\n",
      "('Carlos Gonzalez', 'P-004', 1)\n",
      "('Hiroshi Tanaka', 'P-003', 1)\n",
      "('Alice Johnson', 'P-002', 1)\n",
      "('John Smith', 'P-001', 1)\n",
      "Operation Complete.\n",
      "Connection to database Icarus.db closed.\n"
     ]
    }
   ],
   "execution_count": 23
  },
  {
   "metadata": {
    "ExecuteTime": {
     "end_time": "2025-06-07T21:09:49.702726900Z",
     "start_time": "2025-06-07T16:03:45.892866Z"
    }
   },
   "cell_type": "code",
   "source": "DAO.select_or_delete('Users', 'Password' [(\"\", \"Username\", \"=\", )])",
   "id": "c7395020ddfa77b5",
   "outputs": [
    {
     "name": "stdout",
     "output_type": "stream",
     "text": [
      "Connected to Icarus.db.\n",
      "(1, 'admin', '$2b$12$lU6ifGwToyRLpwL2m0qxpOT0ehXr9.SnDOdRHJNg0ZBOuWJJ.RMm6')\n",
      "Operation Complete.\n",
      "Connection to database Icarus.db closed.\n"
     ]
    }
   ],
   "execution_count": 29
  },
  {
   "metadata": {
    "ExecuteTime": {
     "end_time": "2025-06-07T21:09:49.702726900Z",
     "start_time": "2025-06-07T19:16:40.515499Z"
    }
   },
   "cell_type": "code",
   "source": "DAO.add_data('Airports', ('SND', 'Test', 'Testland', 10))",
   "id": "3ea3953ef34397f6",
   "outputs": [
    {
     "name": "stdout",
     "output_type": "stream",
     "text": [
      "Connected to Icarus.db.\n",
      "Successfully inserted data into Airports.\n",
      "Old table size: 15. New table size: 16.\n",
      "Operation Complete.\n",
      "Connection to database Icarus.db closed.\n"
     ]
    }
   ],
   "execution_count": 32
  },
  {
   "metadata": {
    "ExecuteTime": {
     "end_time": "2025-06-07T21:11:42.828937Z",
     "start_time": "2025-06-07T21:11:42.824336Z"
    }
   },
   "cell_type": "code",
   "source": "DAO.select_or_delete('Airports', '*')",
   "id": "15b35e34c3aec29b",
   "outputs": [
    {
     "name": "stdout",
     "output_type": "stream",
     "text": [
      "Connected to Icarus.db.\n",
      "Operation Complete.\n",
      "Connection to database Icarus.db closed.\n"
     ]
    },
    {
     "data": {
      "text/plain": [
       "([(1, 'JFK', 'JFK International', 'USA', 4),\n",
       "  (2, 'LHR', 'Heathrow', 'UK', 2),\n",
       "  (3, 'CDG', 'Charles de Gaulle', 'France', 4),\n",
       "  (4, 'HND', 'Haneda', 'Japan', 4),\n",
       "  (5, 'SIN', 'Changi', 'Singapore', 3),\n",
       "  (6, 'SYD', 'Sydney', 'Australia', 3),\n",
       "  (7, 'FRA', 'Frankfurt', 'Germany', 4),\n",
       "  (8, 'DXB', 'Dubai Intl', 'UAE', 2),\n",
       "  (9, 'YYZ', 'Toronto Pearson', 'Canada', 5),\n",
       "  (10, 'ICN', 'Incheon', 'South Korea', 3),\n",
       "  (11, 'LAX', 'Los Angeles', 'USA', 4),\n",
       "  (12, 'MAD', 'Madrid-Barajas', 'Spain', 4),\n",
       "  (13, 'GRU', 'São Paulo–Guarulhos', 'Brazil', 2),\n",
       "  (14, 'AMS', 'Amsterdam Schiphol', 'Netherlands', 6),\n",
       "  (15, 'DEL', 'Indira Gandhi Intl', 'India', 3)],\n",
       " ['AirportID', 'AirportCode', 'AirportName', 'AirportCountry', 'Runways'])"
      ]
     },
     "execution_count": 14,
     "metadata": {},
     "output_type": "execute_result"
    }
   ],
   "execution_count": 14
  },
  {
   "metadata": {
    "ExecuteTime": {
     "end_time": "2025-06-07T21:11:54.048573Z",
     "start_time": "2025-06-07T21:11:54.044261Z"
    }
   },
   "cell_type": "code",
   "source": "DAO.select_or_delete('Airports', '', [('', 'AirportCode', '=', 'DEL')],'DELETE')",
   "id": "860096359ec8ed82",
   "outputs": [
    {
     "name": "stdout",
     "output_type": "stream",
     "text": [
      "Connected to Icarus.db.\n",
      "Error performing operation: 'NoneType' object has no attribute 'username'\n",
      "Transaction rolled back.\n",
      "Connection to database Icarus.db closed.\n"
     ]
    }
   ],
   "execution_count": 15
  },
  {
   "metadata": {
    "ExecuteTime": {
     "end_time": "2025-06-07T21:11:54.706139Z",
     "start_time": "2025-06-07T21:11:54.701539Z"
    }
   },
   "cell_type": "code",
   "source": "DAO.select_or_delete('Airports', '*')",
   "id": "40ee12105da71b72",
   "outputs": [
    {
     "name": "stdout",
     "output_type": "stream",
     "text": [
      "Connected to Icarus.db.\n",
      "Operation Complete.\n",
      "Connection to database Icarus.db closed.\n"
     ]
    },
    {
     "data": {
      "text/plain": [
       "([(1, 'JFK', 'JFK International', 'USA', 4),\n",
       "  (2, 'LHR', 'Heathrow', 'UK', 2),\n",
       "  (3, 'CDG', 'Charles de Gaulle', 'France', 4),\n",
       "  (4, 'HND', 'Haneda', 'Japan', 4),\n",
       "  (5, 'SIN', 'Changi', 'Singapore', 3),\n",
       "  (6, 'SYD', 'Sydney', 'Australia', 3),\n",
       "  (7, 'FRA', 'Frankfurt', 'Germany', 4),\n",
       "  (8, 'DXB', 'Dubai Intl', 'UAE', 2),\n",
       "  (9, 'YYZ', 'Toronto Pearson', 'Canada', 5),\n",
       "  (10, 'ICN', 'Incheon', 'South Korea', 3),\n",
       "  (11, 'LAX', 'Los Angeles', 'USA', 4),\n",
       "  (12, 'MAD', 'Madrid-Barajas', 'Spain', 4),\n",
       "  (13, 'GRU', 'São Paulo–Guarulhos', 'Brazil', 2),\n",
       "  (14, 'AMS', 'Amsterdam Schiphol', 'Netherlands', 6),\n",
       "  (15, 'DEL', 'Indira Gandhi Intl', 'India', 3)],\n",
       " ['AirportID', 'AirportCode', 'AirportName', 'AirportCountry', 'Runways'])"
      ]
     },
     "execution_count": 16,
     "metadata": {},
     "output_type": "execute_result"
    }
   ],
   "execution_count": 16
  },
  {
   "metadata": {
    "ExecuteTime": {
     "end_time": "2025-06-07T21:09:49.707730700Z",
     "start_time": "2025-06-07T19:22:04.442132Z"
    }
   },
   "cell_type": "code",
   "source": "",
   "id": "961b5683c8ee75be",
   "outputs": [],
   "execution_count": null
  },
  {
   "metadata": {},
   "cell_type": "code",
   "outputs": [],
   "execution_count": null,
   "source": "",
   "id": "a5b60af7043da7c"
  }
 ],
 "metadata": {
  "kernelspec": {
   "display_name": "Python 3",
   "language": "python",
   "name": "python3"
  },
  "language_info": {
   "codemirror_mode": {
    "name": "ipython",
    "version": 2
   },
   "file_extension": ".py",
   "mimetype": "text/x-python",
   "name": "python",
   "nbconvert_exporter": "python",
   "pygments_lexer": "ipython2",
   "version": "2.7.6"
  }
 },
 "nbformat": 4,
 "nbformat_minor": 5
}
