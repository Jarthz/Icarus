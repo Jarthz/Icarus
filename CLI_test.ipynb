{
 "cells": [
  {
   "cell_type": "code",
   "id": "initial_id",
   "metadata": {
    "collapsed": true,
    "ExecuteTime": {
     "end_time": "2025-06-07T21:16:14.830621Z",
     "start_time": "2025-06-07T21:16:11.858007Z"
    }
   },
   "source": [
    "import CLI\n",
    "import LogicLayer\n",
    "import DAO\n",
    "import DatabaseManager\n",
    "import User\n",
    "\n",
    "\n",
    "cli = CLI.CLI()\n",
    "dbm = DatabaseManager.DatabaseManager()\n",
    "dao = DAO.DAO(dbm)\n",
    "\n",
    "logic = LogicLayer.LogicLayer(dao, cli)\n",
    "\n",
    "dao.create_table()\n",
    "dao.drop_table()\n",
    "dao.create_table()\n",
    "files = ['Airports.csv', 'Pilots.csv', 'RouteTimes.csv', 'Flights.csv']\n",
    "dao.insert_legacy_data(files)\n",
    "dao.add_user(\"admin\", \"Password123\")\n",
    "logic.user = User.User(username='admin')"
   ],
   "outputs": [
    {
     "name": "stdout",
     "output_type": "stream",
     "text": [
      "Connected to Icarus.db.\n",
      "Table Airports created.\n",
      "Table Pilots created.\n",
      "Table Flights created.\n",
      "Table RouteTimes created.\n",
      "Table Users created.\n",
      "Table AuditLog created.\n",
      "Success! All tables created, committed to DB.\n",
      "Connection to database Icarus.db closed.\n",
      "Connected to Icarus.db.\n",
      "Success! Table Airports dropped.\n",
      "Success! Table Pilots dropped.\n",
      "Success! Table Flights dropped.\n",
      "Success! Table RouteTimes dropped.\n",
      "Success! Table Users dropped.\n",
      "Success! Table AuditLog dropped.\n",
      "All tables dropped, committed to DB.\n",
      "Connection to database Icarus.db closed.\n",
      "Connected to Icarus.db.\n",
      "Table Airports created.\n",
      "Table Pilots created.\n",
      "Table Flights created.\n",
      "Table RouteTimes created.\n",
      "Table Users created.\n",
      "Table AuditLog created.\n",
      "Success! All tables created, committed to DB.\n",
      "Connection to database Icarus.db closed.\n",
      "Inserting Airports...\n",
      "Connected to Icarus.db.\n",
      "Success! Inserted data from Airports.csv into Airports.\n",
      "Connection to database Icarus.db closed.\n",
      "Inserting Pilots...\n",
      "Connected to Icarus.db.\n",
      "Success! Inserted data from Pilots.csv into Pilots.\n",
      "Connection to database Icarus.db closed.\n",
      "Inserting RouteTimes...\n",
      "Connected to Icarus.db.\n",
      "Error inserting data from RouteTimes.csv check that columns = schema: cannot store BLOB value in INTEGER column RouteTimes.Origin\n",
      "Transaction rolled back.\n",
      "Connection to database Icarus.db closed.\n",
      "Inserting Flights...\n",
      "Connected to Icarus.db.\n",
      "Success! Inserted data from Flights.csv into Flights.\n",
      "Connection to database Icarus.db closed.\n",
      "Connected to Icarus.db.\n",
      "Successfully added user admin.\n",
      "Operation Complete.\n",
      "Connection to database Icarus.db closed.\n"
     ]
    }
   ],
   "execution_count": 1
  },
  {
   "metadata": {
    "ExecuteTime": {
     "end_time": "2025-06-07T21:17:05.961072Z",
     "start_time": "2025-06-07T21:17:05.957732Z"
    }
   },
   "cell_type": "code",
   "source": "logic.delete_record('Flights', [(10)])",
   "id": "f21723c99bd10ead",
   "outputs": [
    {
     "name": "stdout",
     "output_type": "stream",
     "text": [
      "Connected to Icarus.db.\n",
      "Error performing operation: 'int' object is not subscriptable\n",
      "Transaction rolled back.\n",
      "Connection to database Icarus.db closed.\n"
     ]
    }
   ],
   "execution_count": 5
  },
  {
   "metadata": {
    "ExecuteTime": {
     "end_time": "2025-06-07T21:16:15.101823700Z",
     "start_time": "2025-06-07T20:53:04.746627Z"
    }
   },
   "cell_type": "code",
   "source": "",
   "id": "c787b89d20d73c7",
   "outputs": [],
   "execution_count": null
  },
  {
   "metadata": {
    "ExecuteTime": {
     "end_time": "2025-06-07T21:16:15.102824100Z",
     "start_time": "2025-06-07T20:53:04.754493Z"
    }
   },
   "cell_type": "code",
   "source": "logic.authenticate(cli)",
   "id": "aa1917ef2f22f475",
   "outputs": [
    {
     "ename": "TypeError",
     "evalue": "LogicLayer.authenticate() takes 1 positional argument but 2 were given",
     "output_type": "error",
     "traceback": [
      "\u001B[31m---------------------------------------------------------------------------\u001B[39m",
      "\u001B[31mTypeError\u001B[39m                                 Traceback (most recent call last)",
      "\u001B[36mCell\u001B[39m\u001B[36m \u001B[39m\u001B[32mIn[3]\u001B[39m\u001B[32m, line 1\u001B[39m\n\u001B[32m----> \u001B[39m\u001B[32m1\u001B[39m \u001B[43mlogic\u001B[49m\u001B[43m.\u001B[49m\u001B[43mauthenticate\u001B[49m\u001B[43m(\u001B[49m\u001B[43mcli\u001B[49m\u001B[43m)\u001B[49m\n",
      "\u001B[31mTypeError\u001B[39m: LogicLayer.authenticate() takes 1 positional argument but 2 were given"
     ]
    }
   ],
   "execution_count": 3
  },
  {
   "metadata": {},
   "cell_type": "code",
   "outputs": [],
   "execution_count": null,
   "source": "",
   "id": "48de9b14fa10771c"
  }
 ],
 "metadata": {
  "kernelspec": {
   "display_name": "Python 3",
   "language": "python",
   "name": "python3"
  },
  "language_info": {
   "codemirror_mode": {
    "name": "ipython",
    "version": 2
   },
   "file_extension": ".py",
   "mimetype": "text/x-python",
   "name": "python",
   "nbconvert_exporter": "python",
   "pygments_lexer": "ipython2",
   "version": "2.7.6"
  }
 },
 "nbformat": 4,
 "nbformat_minor": 5
}
